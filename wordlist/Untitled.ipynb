{
 "cells": [
  {
   "cell_type": "code",
   "execution_count": 1,
   "metadata": {},
   "outputs": [],
   "source": [
    "import pandas as pd\n",
    "import csv\n",
    "import os"
   ]
  },
  {
   "cell_type": "code",
   "execution_count": 2,
   "metadata": {},
   "outputs": [],
   "source": [
    "path = os.getcwd() + '\\\\antonyms master.csv'"
   ]
  },
  {
   "cell_type": "code",
   "execution_count": 3,
   "metadata": {},
   "outputs": [
    {
     "data": {
      "text/plain": [
       "'E:\\\\Jupyter\\\\wordlist\\\\antonyms master.csv'"
      ]
     },
     "execution_count": 3,
     "metadata": {},
     "output_type": "execute_result"
    }
   ],
   "source": [
    "path"
   ]
  },
  {
   "cell_type": "code",
   "execution_count": 4,
   "metadata": {},
   "outputs": [],
   "source": [
    "antonym_dict = {}\n",
    "\n",
    "with open(path) as csvfile:\n",
    "    reader = csv.reader(csvfile)\n",
    "    \n",
    "    for row in reader:\n",
    "        antonym_dict.update({row[0]:row[1]})"
   ]
  },
  {
   "cell_type": "code",
   "execution_count": 5,
   "metadata": {},
   "outputs": [],
   "source": [
    "path_words = os.getcwd() + '\\\\std 6 words.csv'"
   ]
  },
  {
   "cell_type": "code",
   "execution_count": 6,
   "metadata": {},
   "outputs": [],
   "source": [
    "std_6_words_unit1_ = []\n",
    "std_6_words_unit2_ = []\n",
    "std_6_words_unit3_ = []\n",
    "\n",
    "with open(path_words) as cs:\n",
    "    reader = csv.reader(cs)\n",
    "    next(reader)\n",
    "    \n",
    "    for row in reader:\n",
    "        std_6_words_unit1_.append(row[1])\n",
    "        std_6_words_unit2_.append(row[3])\n",
    "        std_6_words_unit3_.append(row[6])"
   ]
  },
  {
   "cell_type": "code",
   "execution_count": 7,
   "metadata": {},
   "outputs": [],
   "source": [
    "std_6_words_unit1 = [e for e in std_6_words_unit1_ if e not in ('')]\n",
    "std_6_words_unit2 = [e for e in std_6_words_unit2_ if e not in ('')]\n",
    "std_6_words_unit3 = [e for e in std_6_words_unit3_ if e not in ('')]"
   ]
  },
  {
   "cell_type": "code",
   "execution_count": 8,
   "metadata": {},
   "outputs": [],
   "source": [
    "std_6_words_unit1_opp_table = {}"
   ]
  },
  {
   "cell_type": "code",
   "execution_count": 9,
   "metadata": {},
   "outputs": [
    {
     "data": {
      "text/plain": [
       "'against'"
      ]
     },
     "execution_count": 9,
     "metadata": {},
     "output_type": "execute_result"
    }
   ],
   "source": [
    "std_6_words_unit1[0]"
   ]
  },
  {
   "cell_type": "code",
   "execution_count": 10,
   "metadata": {},
   "outputs": [
    {
     "data": {
      "text/plain": [
       "'for'"
      ]
     },
     "execution_count": 10,
     "metadata": {},
     "output_type": "execute_result"
    }
   ],
   "source": [
    "antonym_dict['against']"
   ]
  },
  {
   "cell_type": "code",
   "execution_count": 15,
   "metadata": {},
   "outputs": [],
   "source": [
    "std_6_words_unit1_opp_table = {}\n",
    "\n",
    "for word in std_6_words_unit1:\n",
    "    if word in antonym_dict:\n",
    "        opp = antonym_dict[word]\n",
    "        std_6_words_unit1_opp_table.update({word:[opp, 'He is against us']})"
   ]
  },
  {
   "cell_type": "code",
   "execution_count": 12,
   "metadata": {},
   "outputs": [],
   "source": [
    "std_6_words_unit2_opp_table = {}\n",
    "\n",
    "for word in std_6_words_unit2:\n",
    "    if word in antonym_dict:\n",
    "        opp = antonym_dict[word]\n",
    "        std_6_words_unit2_opp_table.update({word:opp})"
   ]
  },
  {
   "cell_type": "code",
   "execution_count": 13,
   "metadata": {},
   "outputs": [],
   "source": [
    "std_6_words_unit3_opp_table = {}\n",
    "\n",
    "for word in std_6_words_unit3:\n",
    "    if word in antonym_dict:\n",
    "        opp = antonym_dict[word]\n",
    "        std_6_words_unit3_opp_table.update({word:[opp]})"
   ]
  },
  {
   "cell_type": "code",
   "execution_count": 16,
   "metadata": {},
   "outputs": [
    {
     "data": {
      "text/plain": [
       "{'against': ['for', 'He is against us'],\n",
       " 'careful': ['careless', 'He is against us'],\n",
       " 'correct': ['false, wrong', 'He is against us'],\n",
       " 'excited': ['calm', 'He is against us'],\n",
       " 'extreme': ['moderate', 'He is against us'],\n",
       " 'include': ['exclude', 'He is against us'],\n",
       " 'morning': ['evening', 'He is against us'],\n",
       " 'natural': ['artificial', 'He is against us'],\n",
       " 'shelter': ['exposure', 'He is against us'],\n",
       " 'speaker': ['listener', 'He is against us'],\n",
       " 'student': ['teacher', 'He is against us'],\n",
       " 'success': ['failure', 'He is against us'],\n",
       " 'teacher': ['pupil, student', 'He is against us'],\n",
       " 'visitor': ['host', 'He is against us'],\n",
       " 'domestic': ['foreign', 'He is against us'],\n",
       " 'negative': ['affirmative', 'He is against us'],\n",
       " 'probably': ['certainly', 'He is against us'],\n",
       " 'question': ['answer', 'He is against us'],\n",
       " 'beautiful': ['ugly', 'He is against us'],\n",
       " 'beginning': ['end, ending', 'He is against us'],\n",
       " 'different': ['alike, equal, the same', 'He is against us'],\n",
       " 'difficult': ['easy', 'He is against us'],\n",
       " 'sometimes': ['often', 'He is against us'],\n",
       " 'construction': ['destruction', 'He is against us']}"
      ]
     },
     "execution_count": 16,
     "metadata": {},
     "output_type": "execute_result"
    }
   ],
   "source": [
    "std_6_words_unit1_opp_table"
   ]
  },
  {
   "cell_type": "code",
   "execution_count": 55,
   "metadata": {},
   "outputs": [
    {
     "data": {
      "text/plain": [
       "{'violent': 'gentle',\n",
       " 'healthy': 'ill, sick',\n",
       " 'nothing': 'everything',\n",
       " 'ceiling': 'floor',\n",
       " 'antonym': 'synonym',\n",
       " 'village': 'town',\n",
       " 'useless': 'useful',\n",
       " 'straight': 'crooked',\n",
       " 'pleasant': 'awful',\n",
       " 'children': 'parents',\n",
       " 'together': 'apart',\n",
       " 'possible': 'impossible',\n",
       " 'mountain': 'valley',\n",
       " 'daughter': 'son',\n",
       " 'careless': 'careful',\n",
       " 'yesterday': 'tomorrow',\n",
       " 'attention': 'inattention',\n",
       " 'delicious': 'awful',\n",
       " 'desperate': 'hopeful',\n",
       " 'dangerous': 'safe',\n",
       " 'outskirts': 'centre',\n",
       " 'everything': 'nothing',\n",
       " 'protection': 'attack'}"
      ]
     },
     "execution_count": 55,
     "metadata": {},
     "output_type": "execute_result"
    }
   ],
   "source": [
    "std_6_words_unit2_opp_table"
   ]
  },
  {
   "cell_type": "code",
   "execution_count": 56,
   "metadata": {},
   "outputs": [
    {
     "data": {
      "text/plain": [
       "{'special': 'general, ordinary',\n",
       " 'general': 'particular, special',\n",
       " 'fortune': 'bad luck',\n",
       " 'foreign': 'domestic',\n",
       " 'distant': 'near',\n",
       " 'combine': 'separate',\n",
       " 'ancient': 'modern',\n",
       " 'valuable': 'valueless',\n",
       " 'exciting': 'boring',\n",
       " 'voluntary': 'compulsory',\n",
       " 'expensive': 'cheap',\n",
       " 'consonant': 'vowel',\n",
       " 'particular': 'general',\n",
       " 'attractive': 'repulsive'}"
      ]
     },
     "execution_count": 56,
     "metadata": {},
     "output_type": "execute_result"
    }
   ],
   "source": [
    "std_6_words_unit3_opp_table"
   ]
  },
  {
   "cell_type": "code",
   "execution_count": null,
   "metadata": {},
   "outputs": [],
   "source": []
  }
 ],
 "metadata": {
  "kernelspec": {
   "display_name": "Python 3",
   "language": "python",
   "name": "python3"
  },
  "language_info": {
   "codemirror_mode": {
    "name": "ipython",
    "version": 3
   },
   "file_extension": ".py",
   "mimetype": "text/x-python",
   "name": "python",
   "nbconvert_exporter": "python",
   "pygments_lexer": "ipython3",
   "version": "3.7.7"
  }
 },
 "nbformat": 4,
 "nbformat_minor": 4
}
