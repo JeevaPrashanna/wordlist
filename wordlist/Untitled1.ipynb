{
 "cells": [
  {
   "cell_type": "code",
   "execution_count": 1,
   "metadata": {},
   "outputs": [],
   "source": [
    "import requests\n",
    "import json"
   ]
  },
  {
   "cell_type": "code",
   "execution_count": 141,
   "metadata": {},
   "outputs": [],
   "source": [
    "app_id = \"84b3b205\"\n",
    "app_key = \"0817557bb06e9b2cac6c794f72b53f1b\"\n",
    "language = \"en\"\n",
    "word_id = \"children\"\n",
    "strictMatch = 'false'"
   ]
  },
  {
   "cell_type": "code",
   "execution_count": 135,
   "metadata": {},
   "outputs": [],
   "source": [
    "fields = 'pronunciations'"
   ]
  },
  {
   "cell_type": "code",
   "execution_count": 142,
   "metadata": {},
   "outputs": [],
   "source": [
    "url = 'https://od-api.oxforddictionaries.com:443/api/v2/lemmas/' + language + '/' + word_id.lower()"
   ]
  },
  {
   "cell_type": "code",
   "execution_count": 143,
   "metadata": {},
   "outputs": [
    {
     "data": {
      "text/plain": [
       "'https://od-api.oxforddictionaries.com:443/api/v2/lemmas/en/children'"
      ]
     },
     "execution_count": 143,
     "metadata": {},
     "output_type": "execute_result"
    }
   ],
   "source": [
    "url"
   ]
  },
  {
   "cell_type": "code",
   "execution_count": 144,
   "metadata": {},
   "outputs": [],
   "source": [
    "r = requests.get(url, headers = {'app_id': app_id, 'app_key': app_key})"
   ]
  },
  {
   "cell_type": "code",
   "execution_count": 145,
   "metadata": {},
   "outputs": [
    {
     "data": {
      "text/plain": [
       "'<Response [403]>'"
      ]
     },
     "execution_count": 145,
     "metadata": {},
     "output_type": "execute_result"
    }
   ],
   "source": [
    "str(r)"
   ]
  },
  {
   "cell_type": "code",
   "execution_count": 146,
   "metadata": {},
   "outputs": [
    {
     "data": {
      "text/plain": [
       "{'error': 'No entry found matching supplied source_lang, word and provided filters'}"
      ]
     },
     "execution_count": 146,
     "metadata": {},
     "output_type": "execute_result"
    }
   ],
   "source": [
    "op"
   ]
  },
  {
   "cell_type": "code",
   "execution_count": null,
   "metadata": {},
   "outputs": [],
   "source": [
    "op = r.json()"
   ]
  },
  {
   "cell_type": "code",
   "execution_count": 85,
   "metadata": {},
   "outputs": [
    {
     "data": {
      "text/plain": [
       "False"
      ]
     },
     "execution_count": 85,
     "metadata": {},
     "output_type": "execute_result"
    }
   ],
   "source": []
  },
  {
   "cell_type": "code",
   "execution_count": 78,
   "metadata": {},
   "outputs": [
    {
     "data": {
      "text/plain": [
       "{'error': 'No entry found matching supplied source_lang, word and provided filters'}"
      ]
     },
     "execution_count": 78,
     "metadata": {},
     "output_type": "execute_result"
    }
   ],
   "source": [
    "op"
   ]
  },
  {
   "cell_type": "code",
   "execution_count": 67,
   "metadata": {},
   "outputs": [
    {
     "data": {
      "text/plain": [
       "dict_keys(['definitions', 'domainClasses', 'examples', 'id', 'semanticClasses', 'shortDefinitions', 'synonyms', 'thesaurusLinks'])"
      ]
     },
     "execution_count": 67,
     "metadata": {},
     "output_type": "execute_result"
    }
   ],
   "source": [
    "op['results'][0]['lexicalEntries'][0]['entries'][0]['senses'][0].keys()"
   ]
  },
  {
   "cell_type": "code",
   "execution_count": 68,
   "metadata": {},
   "outputs": [],
   "source": [
    "definition = op['results'][0]['lexicalEntries'][0]['entries'][0]['senses'][0]['definitions'][0]"
   ]
  },
  {
   "cell_type": "code",
   "execution_count": 69,
   "metadata": {},
   "outputs": [
    {
     "data": {
      "text/plain": [
       "\"a large natural elevation of the earth's surface rising abruptly from the surrounding level; a large steep hill\""
      ]
     },
     "execution_count": 69,
     "metadata": {},
     "output_type": "execute_result"
    }
   ],
   "source": [
    "definition\n"
   ]
  },
  {
   "cell_type": "code",
   "execution_count": 25,
   "metadata": {},
   "outputs": [],
   "source": [
    "example = op['results'][0]['lexicalEntries'][0]['entries'][0]['senses'][0]['examples'][0]['text']"
   ]
  },
  {
   "cell_type": "code",
   "execution_count": 26,
   "metadata": {},
   "outputs": [],
   "source": [
    "def2 = op['results'][0]['lexicalEntries'][0]['entries'][0]['senses'][0]['subsenses'][0]['definitions'][0]"
   ]
  },
  {
   "cell_type": "code",
   "execution_count": 27,
   "metadata": {},
   "outputs": [],
   "source": [
    "example2 = op['results'][0]['lexicalEntries'][0]['entries'][0]['senses'][0]['subsenses'][0]['examples'][0]['text']"
   ]
  },
  {
   "cell_type": "code",
   "execution_count": 28,
   "metadata": {},
   "outputs": [
    {
     "name": "stdout",
     "output_type": "stream",
     "text": [
      "Word = against\n",
      "Definition = in opposition to, in opposition to, with reference to legal action\n",
      "Example = the fight against crime, the first victim gave evidence against him\n"
     ]
    }
   ],
   "source": [
    "print(f'Word = {word_id}')\n",
    "print(f'Definition = {definition}, {def2}')\n",
    "print(f'Example = {example}, {example2}')"
   ]
  },
  {
   "cell_type": "code",
   "execution_count": 29,
   "metadata": {},
   "outputs": [
    {
     "data": {
      "text/plain": [
       "{'id': 'against',\n",
       " 'metadata': {'operation': 'retrieve',\n",
       "  'provider': 'Oxford University Press',\n",
       "  'schema': 'RetrieveEntry'},\n",
       " 'results': [{'id': 'against',\n",
       "   'language': 'en-gb',\n",
       "   'lexicalEntries': [{'entries': [{'etymologies': ['Middle English: from again + -s (adverbial genitive) + -t probably by association with superlatives (as in amongst)'],\n",
       "       'pronunciations': [{'audioFile': 'https://audio.oxforddictionaries.com/en/mp3/against_gb_1.mp3',\n",
       "         'dialects': ['British English'],\n",
       "         'phoneticNotation': 'IPA',\n",
       "         'phoneticSpelling': 'əˈɡɛnst'},\n",
       "        {'audioFile': 'https://audio.oxforddictionaries.com/en/mp3/against_gb_2.mp3',\n",
       "         'dialects': ['British English'],\n",
       "         'phoneticNotation': 'IPA',\n",
       "         'phoneticSpelling': 'əˈɡeɪnst'}],\n",
       "       'senses': [{'definitions': ['in opposition to'],\n",
       "         'examples': [{'text': 'the fight against crime'},\n",
       "          {'text': 'he decided against immediate publication'},\n",
       "          {'text': 'swimming against the tide'}],\n",
       "         'id': 'm_en_gbus0015400.007',\n",
       "         'shortDefinitions': ['in opposition to'],\n",
       "         'subsenses': [{'definitions': ['in opposition to, with reference to legal action'],\n",
       "           'examples': [{'text': 'the first victim gave evidence against him'}],\n",
       "           'id': 'm_en_gbus0015400.010',\n",
       "           'shortDefinitions': ['of legal action']},\n",
       "          {'definitions': ['in opposition to, with reference to a sporting contest'],\n",
       "           'examples': [{'text': 'the championship match against Somerset'}],\n",
       "           'id': 'm_en_gbus0015400.011',\n",
       "           'shortDefinitions': ['of sporting contest']}],\n",
       "         'synonyms': [{'language': 'en', 'text': 'opposed to'},\n",
       "          {'language': 'en', 'text': 'in opposition to'},\n",
       "          {'language': 'en', 'text': 'hostile to'},\n",
       "          {'language': 'en', 'text': 'averse to'},\n",
       "          {'language': 'en', 'text': 'antagonistic towards'},\n",
       "          {'language': 'en', 'text': 'inimical to'},\n",
       "          {'language': 'en', 'text': 'unsympathetic to'},\n",
       "          {'language': 'en', 'text': 'resistant to'},\n",
       "          {'language': 'en', 'text': 'at odds with'},\n",
       "          {'language': 'en', 'text': 'in disagreement with'},\n",
       "          {'language': 'en', 'text': 'contra'}],\n",
       "         'thesaurusLinks': [{'entry_id': 'against',\n",
       "           'sense_id': 't_en_gb0000367.001'}]},\n",
       "        {'definitions': ['in anticipation of and preparation for (a problem or difficulty)'],\n",
       "         'examples': [{'text': 'he gritted his teeth against the pain'},\n",
       "          {'text': 'makeshift barricades against tank attacks'}],\n",
       "         'id': 'm_en_gbus0015400.013',\n",
       "         'shortDefinitions': ['in preparation for'],\n",
       "         'subsenses': [{'definitions': ['in resistance to; as protection from'],\n",
       "           'examples': [{'text': 'he turned up his collar against the wind'}],\n",
       "           'id': 'm_en_gbus0015400.014',\n",
       "           'shortDefinitions': ['in resistance to'],\n",
       "           'synonyms': [{'language': 'en', 'text': 'to protect oneself from'},\n",
       "            {'language': 'en', 'text': 'in resistance to'}],\n",
       "           'thesaurusLinks': [{'entry_id': 'against',\n",
       "             'sense_id': 't_en_gb0000367.005'}]},\n",
       "          {'definitions': ['in relation to (an amount of money owed, due, or lent) so as to reduce, cancel, or secure it'],\n",
       "           'domainClasses': [{'id': 'commerce', 'text': 'Commerce'}],\n",
       "           'examples': [{'text': 'money was advanced against the value of the property'}],\n",
       "           'id': 'm_en_gbus0015400.015',\n",
       "           'shortDefinitions': ['of money owed/lent']},\n",
       "          {'definitions': ['(in betting) in anticipation of the failure of'],\n",
       "           'domainClasses': [{'id': 'gambling', 'text': 'Gambling'}],\n",
       "           'examples': [{'text': 'the odds were 5–1 against England'}],\n",
       "           'id': 'm_en_gbus0015400.016',\n",
       "           'shortDefinitions': ['of betting']}],\n",
       "         'synonyms': [{'language': 'en', 'text': 'in case of'},\n",
       "          {'language': 'en', 'text': 'as provision for'},\n",
       "          {'language': 'en', 'text': 'in provision for'},\n",
       "          {'language': 'en', 'text': 'in preparation for'},\n",
       "          {'language': 'en', 'text': 'in anticipation of'},\n",
       "          {'language': 'en', 'text': 'in expectation of'}],\n",
       "         'thesaurusLinks': [{'entry_id': 'against',\n",
       "           'sense_id': 't_en_gb0000367.004'}]},\n",
       "        {'definitions': ['in or into physical contact with (something), so as to be supported by or collide with it'],\n",
       "         'examples': [{'text': 'she stood with her back against the door'},\n",
       "          {'text': 'frustration made him bang his head against the wall'}],\n",
       "         'id': 'm_en_gbus0015400.018',\n",
       "         'shortDefinitions': ['in physical contact with'],\n",
       "         'synonyms': [{'language': 'en', 'text': 'touching'},\n",
       "          {'language': 'en', 'text': 'in contact with'},\n",
       "          {'language': 'en', 'text': 'close up to'},\n",
       "          {'language': 'en', 'text': 'up against'},\n",
       "          {'language': 'en', 'text': 'abutting'},\n",
       "          {'language': 'en', 'text': 'on'},\n",
       "          {'language': 'en', 'text': 'adjacent to'}],\n",
       "         'thesaurusLinks': [{'entry_id': 'against',\n",
       "           'sense_id': 't_en_gb0000367.008'}]},\n",
       "        {'definitions': ['in conceptual contrast to'],\n",
       "         'examples': [{'text': 'the benefits must be weighed against the costs'}],\n",
       "         'id': 'm_en_gbus0015400.020',\n",
       "         'shortDefinitions': ['in contrast to'],\n",
       "         'subsenses': [{'definitions': ['in visual contrast to'],\n",
       "           'examples': [{'text': 'he was silhouetted against the light of the stair window'}],\n",
       "           'id': 'm_en_gbus0015400.021',\n",
       "           'shortDefinitions': ['in visual contrast to'],\n",
       "           'synonyms': [{'language': 'en', 'text': 'in contrast to'},\n",
       "            {'language': 'en', 'text': 'as a foil to'}],\n",
       "           'thesaurusLinks': [{'entry_id': 'against',\n",
       "             'sense_id': 't_en_gb0000367.006'}]}],\n",
       "         'synonyms': [{'language': 'en', 'text': 'against'},\n",
       "          {'language': 'en', 'text': 'in opposition to'},\n",
       "          {'language': 'en', 'text': 'contrary to'},\n",
       "          {'language': 'en', 'text': 'at variance with'},\n",
       "          {'language': 'en', 'text': 'in defiance of'},\n",
       "          {'language': 'en', 'text': 'in contravention of'},\n",
       "          {'language': 'en', 'text': 'contrarily'},\n",
       "          {'language': 'en', 'text': 'contrariwise'},\n",
       "          {'language': 'en', 'text': 'conversely'}],\n",
       "         'thesaurusLinks': [{'entry_id': 'counter',\n",
       "           'sense_id': 't_en_gb0003101.003'}]}]}],\n",
       "     'language': 'en-gb',\n",
       "     'lexicalCategory': {'id': 'preposition', 'text': 'Preposition'},\n",
       "     'phrases': [{'id': 'against_one%27s_wishes',\n",
       "       'text': \"against one's wishes\"},\n",
       "      {'id': 'against_the_law', 'text': 'against the law'},\n",
       "      {'id': 'against_the_rules', 'text': 'against the rules'},\n",
       "      {'id': 'have_something_against_someone',\n",
       "       'text': 'have something against someone'}],\n",
       "     'text': 'against'}],\n",
       "   'type': 'headword',\n",
       "   'word': 'against'}],\n",
       " 'word': 'against'}"
      ]
     },
     "execution_count": 29,
     "metadata": {},
     "output_type": "execute_result"
    }
   ],
   "source": [
    "op"
   ]
  },
  {
   "cell_type": "code",
   "execution_count": 233,
   "metadata": {},
   "outputs": [
    {
     "data": {
      "text/plain": [
       "dict_keys(['entries', 'language', 'lexicalCategory', 'text'])"
      ]
     },
     "execution_count": 233,
     "metadata": {},
     "output_type": "execute_result"
    }
   ],
   "source": [
    "op['results'][0]['lexicalEntries'][0].keys()"
   ]
  },
  {
   "cell_type": "code",
   "execution_count": 234,
   "metadata": {},
   "outputs": [
    {
     "data": {
      "text/plain": [
       "{'etymologies': ['early 19th century: variant of earlier hollo; related to holla'],\n",
       " 'pronunciations': [{'audioFile': 'https://audio.oxforddictionaries.com/en/mp3/hello_gb_1.mp3',\n",
       "   'dialects': ['British English'],\n",
       "   'phoneticNotation': 'IPA',\n",
       "   'phoneticSpelling': 'həˈləʊ'},\n",
       "  {'dialects': ['British English'],\n",
       "   'phoneticNotation': 'IPA',\n",
       "   'phoneticSpelling': 'hɛˈləʊ'}],\n",
       " 'senses': [{'definitions': ['used as a greeting or to begin a phone conversation'],\n",
       "   'examples': [{'text': 'hello there, Katie!'}],\n",
       "   'id': 'm_en_gbus0460730.012',\n",
       "   'shortDefinitions': ['used as greeting'],\n",
       "   'subsenses': [{'definitions': ['used to express surprise'],\n",
       "     'examples': [{'text': \"hello, what's all this then?\"}],\n",
       "     'id': 'm_en_gbus0460730.017',\n",
       "     'regions': [{'id': 'british', 'text': 'British'}],\n",
       "     'shortDefinitions': ['used to express surprise']},\n",
       "    {'definitions': [\"used as a cry to attract someone's attention\"],\n",
       "     'examples': [{'text': '‘Hello below!’ he cried'}],\n",
       "     'id': 'm_en_gbus0460730.018',\n",
       "     'shortDefinitions': ['used attract attention']},\n",
       "    {'definitions': ['used informally to express sarcasm or anger'],\n",
       "     'examples': [{'text': 'Hello! Did you even get what the play was about?'}],\n",
       "     'id': 'm_en_gbus0460730.019',\n",
       "     'shortDefinitions': ['used informally to express sarcasm or anger']}]}],\n",
       " 'variantForms': [{'text': 'hallo'}, {'text': 'hullo'}]}"
      ]
     },
     "execution_count": 234,
     "metadata": {},
     "output_type": "execute_result"
    }
   ],
   "source": [
    "op['results'][0]['lexicalEntries'][0]['entries'][0]"
   ]
  },
  {
   "cell_type": "code",
   "execution_count": 1,
   "metadata": {},
   "outputs": [],
   "source": [
    "j = 'jeeva'"
   ]
  },
  {
   "cell_type": "code",
   "execution_count": 2,
   "metadata": {},
   "outputs": [
    {
     "data": {
      "text/plain": [
       "True"
      ]
     },
     "execution_count": 2,
     "metadata": {},
     "output_type": "execute_result"
    }
   ],
   "source": [
    "j.startswith('jee')"
   ]
  },
  {
   "cell_type": "code",
   "execution_count": null,
   "metadata": {},
   "outputs": [],
   "source": []
  }
 ],
 "metadata": {
  "kernelspec": {
   "display_name": "Python 3",
   "language": "python",
   "name": "python3"
  },
  "language_info": {
   "codemirror_mode": {
    "name": "ipython",
    "version": 3
   },
   "file_extension": ".py",
   "mimetype": "text/x-python",
   "name": "python",
   "nbconvert_exporter": "python",
   "pygments_lexer": "ipython3",
   "version": "3.7.7"
  }
 },
 "nbformat": 4,
 "nbformat_minor": 4
}
